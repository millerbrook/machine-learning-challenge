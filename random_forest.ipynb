{
 "cells": [
  {
   "cell_type": "code",
   "execution_count": 2,
   "metadata": {},
   "outputs": [
    {
     "output_type": "stream",
     "name": "stdout",
     "text": [
      "Collecting sklearn\n",
      "  Using cached sklearn-0.0.tar.gz (1.1 kB)\n",
      "Collecting scikit-learn\n",
      "  Downloading scikit_learn-0.24.2-cp39-cp39-win_amd64.whl (6.9 MB)\n",
      "Collecting scipy>=0.19.1\n",
      "  Downloading scipy-1.6.3-cp39-cp39-win_amd64.whl (32.7 MB)\n",
      "Collecting numpy>=1.13.3\n",
      "  Downloading numpy-1.20.3-cp39-cp39-win_amd64.whl (13.7 MB)\n",
      "Collecting threadpoolctl>=2.0.0\n",
      "  Downloading threadpoolctl-2.1.0-py3-none-any.whl (12 kB)\n",
      "Collecting joblib>=0.11\n",
      "  Downloading joblib-1.0.1-py3-none-any.whl (303 kB)\n",
      "Using legacy 'setup.py install' for sklearn, since package 'wheel' is not installed.\n",
      "Installing collected packages: numpy, scipy, threadpoolctl, joblib, scikit-learn, sklearn\n",
      "  WARNING: Failed to write executable - trying to use .deleteme logic\n",
      "ERROR: Could not install packages due to an EnvironmentError: [WinError 2] The system cannot find the file specified: 'c:\\\\python39\\\\Scripts\\\\f2py.exe' -> 'c:\\\\python39\\\\Scripts\\\\f2py.exe.deleteme'\n",
      "\n",
      "WARNING: You are using pip version 20.2.3; however, version 21.1.1 is available.\n",
      "You should consider upgrading via the 'c:\\python39\\python.exe -m pip install --upgrade pip' command.\n"
     ]
    }
   ],
   "source": [
    "# Update sklearn to prevent version mismatches\n",
    "!pip install sklearn --upgrade"
   ]
  },
  {
   "cell_type": "code",
   "execution_count": 3,
   "metadata": {},
   "outputs": [
    {
     "output_type": "stream",
     "name": "stdout",
     "text": [
      "Collecting joblib\n",
      "  Using cached joblib-1.0.1-py3-none-any.whl (303 kB)\n",
      "Installing collected packages: joblib\n",
      "Successfully installed joblib-1.0.1\n",
      "WARNING: You are using pip version 20.2.3; however, version 21.1.1 is available.\n",
      "You should consider upgrading via the 'c:\\python39\\python.exe -m pip install --upgrade pip' command.\n"
     ]
    }
   ],
   "source": [
    "# install joblib. This will be used to save your model. \n",
    "# Restart your kernel after installing \n",
    "!pip install joblib"
   ]
  },
  {
   "cell_type": "code",
   "execution_count": 4,
   "metadata": {},
   "outputs": [
    {
     "output_type": "stream",
     "name": "stderr",
     "text": [
      "C:\\Users\\mille\\Anaconda3\\envs\\PythonData\\lib\\importlib\\_bootstrap.py:219: RuntimeWarning: numpy.ufunc size changed, may indicate binary incompatibility. Expected 192 from C header, got 216 from PyObject\n  return f(*args, **kwds)\n"
     ]
    }
   ],
   "source": [
    "import pandas as pd\n",
    "from sklearn.ensemble import RandomForestClassifier"
   ]
  },
  {
   "cell_type": "markdown",
   "metadata": {},
   "source": [
    "# Read the CSV and Perform Basic Data Cleaning"
   ]
  },
  {
   "cell_type": "code",
   "execution_count": 5,
   "metadata": {},
   "outputs": [
    {
     "output_type": "execute_result",
     "data": {
      "text/plain": [
       "  koi_disposition  koi_fpflag_nt  koi_fpflag_ss  koi_fpflag_co  koi_fpflag_ec  \\\n",
       "0       CONFIRMED              0              0              0              0   \n",
       "1  FALSE POSITIVE              0              1              0              0   \n",
       "2  FALSE POSITIVE              0              1              0              0   \n",
       "3       CONFIRMED              0              0              0              0   \n",
       "4       CONFIRMED              0              0              0              0   \n",
       "\n",
       "   koi_period  koi_period_err1  koi_period_err2  koi_time0bk  \\\n",
       "0   54.418383     2.479000e-04    -2.479000e-04   162.513840   \n",
       "1   19.899140     1.490000e-05    -1.490000e-05   175.850252   \n",
       "2    1.736952     2.630000e-07    -2.630000e-07   170.307565   \n",
       "3    2.525592     3.760000e-06    -3.760000e-06   171.595550   \n",
       "4    4.134435     1.050000e-05    -1.050000e-05   172.979370   \n",
       "\n",
       "   koi_time0bk_err1  ...  koi_steff_err2  koi_slogg  koi_slogg_err1  \\\n",
       "0          0.003520  ...             -81      4.467           0.064   \n",
       "1          0.000581  ...            -176      4.544           0.044   \n",
       "2          0.000115  ...            -174      4.564           0.053   \n",
       "3          0.001130  ...            -211      4.438           0.070   \n",
       "4          0.001900  ...            -232      4.486           0.054   \n",
       "\n",
       "   koi_slogg_err2  koi_srad  koi_srad_err1  koi_srad_err2         ra  \\\n",
       "0          -0.096     0.927          0.105         -0.061  291.93423   \n",
       "1          -0.176     0.868          0.233         -0.078  297.00482   \n",
       "2          -0.168     0.791          0.201         -0.067  285.53461   \n",
       "3          -0.210     1.046          0.334         -0.133  288.75488   \n",
       "4          -0.229     0.972          0.315         -0.105  296.28613   \n",
       "\n",
       "         dec  koi_kepmag  \n",
       "0  48.141651      15.347  \n",
       "1  48.134129      15.436  \n",
       "2  48.285210      15.597  \n",
       "3  48.226200      15.509  \n",
       "4  48.224670      15.714  \n",
       "\n",
       "[5 rows x 41 columns]"
      ],
      "text/html": "<div>\n<style scoped>\n    .dataframe tbody tr th:only-of-type {\n        vertical-align: middle;\n    }\n\n    .dataframe tbody tr th {\n        vertical-align: top;\n    }\n\n    .dataframe thead th {\n        text-align: right;\n    }\n</style>\n<table border=\"1\" class=\"dataframe\">\n  <thead>\n    <tr style=\"text-align: right;\">\n      <th></th>\n      <th>koi_disposition</th>\n      <th>koi_fpflag_nt</th>\n      <th>koi_fpflag_ss</th>\n      <th>koi_fpflag_co</th>\n      <th>koi_fpflag_ec</th>\n      <th>koi_period</th>\n      <th>koi_period_err1</th>\n      <th>koi_period_err2</th>\n      <th>koi_time0bk</th>\n      <th>koi_time0bk_err1</th>\n      <th>...</th>\n      <th>koi_steff_err2</th>\n      <th>koi_slogg</th>\n      <th>koi_slogg_err1</th>\n      <th>koi_slogg_err2</th>\n      <th>koi_srad</th>\n      <th>koi_srad_err1</th>\n      <th>koi_srad_err2</th>\n      <th>ra</th>\n      <th>dec</th>\n      <th>koi_kepmag</th>\n    </tr>\n  </thead>\n  <tbody>\n    <tr>\n      <th>0</th>\n      <td>CONFIRMED</td>\n      <td>0</td>\n      <td>0</td>\n      <td>0</td>\n      <td>0</td>\n      <td>54.418383</td>\n      <td>2.479000e-04</td>\n      <td>-2.479000e-04</td>\n      <td>162.513840</td>\n      <td>0.003520</td>\n      <td>...</td>\n      <td>-81</td>\n      <td>4.467</td>\n      <td>0.064</td>\n      <td>-0.096</td>\n      <td>0.927</td>\n      <td>0.105</td>\n      <td>-0.061</td>\n      <td>291.93423</td>\n      <td>48.141651</td>\n      <td>15.347</td>\n    </tr>\n    <tr>\n      <th>1</th>\n      <td>FALSE POSITIVE</td>\n      <td>0</td>\n      <td>1</td>\n      <td>0</td>\n      <td>0</td>\n      <td>19.899140</td>\n      <td>1.490000e-05</td>\n      <td>-1.490000e-05</td>\n      <td>175.850252</td>\n      <td>0.000581</td>\n      <td>...</td>\n      <td>-176</td>\n      <td>4.544</td>\n      <td>0.044</td>\n      <td>-0.176</td>\n      <td>0.868</td>\n      <td>0.233</td>\n      <td>-0.078</td>\n      <td>297.00482</td>\n      <td>48.134129</td>\n      <td>15.436</td>\n    </tr>\n    <tr>\n      <th>2</th>\n      <td>FALSE POSITIVE</td>\n      <td>0</td>\n      <td>1</td>\n      <td>0</td>\n      <td>0</td>\n      <td>1.736952</td>\n      <td>2.630000e-07</td>\n      <td>-2.630000e-07</td>\n      <td>170.307565</td>\n      <td>0.000115</td>\n      <td>...</td>\n      <td>-174</td>\n      <td>4.564</td>\n      <td>0.053</td>\n      <td>-0.168</td>\n      <td>0.791</td>\n      <td>0.201</td>\n      <td>-0.067</td>\n      <td>285.53461</td>\n      <td>48.285210</td>\n      <td>15.597</td>\n    </tr>\n    <tr>\n      <th>3</th>\n      <td>CONFIRMED</td>\n      <td>0</td>\n      <td>0</td>\n      <td>0</td>\n      <td>0</td>\n      <td>2.525592</td>\n      <td>3.760000e-06</td>\n      <td>-3.760000e-06</td>\n      <td>171.595550</td>\n      <td>0.001130</td>\n      <td>...</td>\n      <td>-211</td>\n      <td>4.438</td>\n      <td>0.070</td>\n      <td>-0.210</td>\n      <td>1.046</td>\n      <td>0.334</td>\n      <td>-0.133</td>\n      <td>288.75488</td>\n      <td>48.226200</td>\n      <td>15.509</td>\n    </tr>\n    <tr>\n      <th>4</th>\n      <td>CONFIRMED</td>\n      <td>0</td>\n      <td>0</td>\n      <td>0</td>\n      <td>0</td>\n      <td>4.134435</td>\n      <td>1.050000e-05</td>\n      <td>-1.050000e-05</td>\n      <td>172.979370</td>\n      <td>0.001900</td>\n      <td>...</td>\n      <td>-232</td>\n      <td>4.486</td>\n      <td>0.054</td>\n      <td>-0.229</td>\n      <td>0.972</td>\n      <td>0.315</td>\n      <td>-0.105</td>\n      <td>296.28613</td>\n      <td>48.224670</td>\n      <td>15.714</td>\n    </tr>\n  </tbody>\n</table>\n<p>5 rows × 41 columns</p>\n</div>"
     },
     "metadata": {},
     "execution_count": 5
    }
   ],
   "source": [
    "df = pd.read_csv(\"exoplanet_data.csv\")\n",
    "# Drop the null columns where all values are null\n",
    "df = df.dropna(axis='columns', how='all')\n",
    "# Drop the null rows\n",
    "df = df.dropna()\n",
    "df.head()"
   ]
  },
  {
   "cell_type": "code",
   "execution_count": 6,
   "metadata": {},
   "outputs": [],
   "source": [
    "df = df[df.koi_disposition!=\"CANDIDATE\"]"
   ]
  },
  {
   "cell_type": "markdown",
   "metadata": {},
   "source": [
    "# Select your features (columns)"
   ]
  },
  {
   "cell_type": "code",
   "execution_count": 7,
   "metadata": {},
   "outputs": [
    {
     "output_type": "execute_result",
     "data": {
      "text/plain": [
       "      koi_fpflag_nt  koi_fpflag_ss  koi_fpflag_co  koi_fpflag_ec  koi_period  \\\n",
       "0                 0              0              0              0   54.418383   \n",
       "1                 0              1              0              0   19.899140   \n",
       "2                 0              1              0              0    1.736952   \n",
       "3                 0              0              0              0    2.525592   \n",
       "4                 0              0              0              0    4.134435   \n",
       "...             ...            ...            ...            ...         ...   \n",
       "6983              0              1              0              0   21.513523   \n",
       "6986              0              0              0              1    8.589871   \n",
       "6987              0              1              1              0    0.527699   \n",
       "6989              0              0              1              0    0.681402   \n",
       "6990              0              0              1              1    4.856035   \n",
       "\n",
       "      koi_period_err1  koi_period_err2  koi_time0bk  koi_time0bk_err1  \\\n",
       "0        2.479000e-04    -2.479000e-04   162.513840          0.003520   \n",
       "1        1.490000e-05    -1.490000e-05   175.850252          0.000581   \n",
       "2        2.630000e-07    -2.630000e-07   170.307565          0.000115   \n",
       "3        3.760000e-06    -3.760000e-06   171.595550          0.001130   \n",
       "4        1.050000e-05    -1.050000e-05   172.979370          0.001900   \n",
       "...               ...              ...          ...               ...   \n",
       "6983     2.714000e-04    -2.714000e-04   132.335600          0.012200   \n",
       "6986     1.846000e-04    -1.846000e-04   132.016100          0.015700   \n",
       "6987     1.160000e-07    -1.160000e-07   131.705093          0.000170   \n",
       "6989     2.430000e-06    -2.430000e-06   132.181750          0.002850   \n",
       "6990     6.360000e-05    -6.360000e-05   135.993300          0.010800   \n",
       "\n",
       "      koi_time0bk_err2  ...  koi_steff_err2  koi_slogg  koi_slogg_err1  \\\n",
       "0            -0.003520  ...             -81      4.467           0.064   \n",
       "1            -0.000581  ...            -176      4.544           0.044   \n",
       "2            -0.000115  ...            -174      4.564           0.053   \n",
       "3            -0.001130  ...            -211      4.438           0.070   \n",
       "4            -0.001900  ...            -232      4.486           0.054   \n",
       "...                ...  ...             ...        ...             ...   \n",
       "6983         -0.012200  ...            -141      3.508           0.187   \n",
       "6986         -0.015700  ...            -152      4.296           0.231   \n",
       "6987         -0.000170  ...            -166      4.529           0.035   \n",
       "6989         -0.002850  ...            -236      4.447           0.056   \n",
       "6990         -0.010800  ...            -225      4.385           0.054   \n",
       "\n",
       "      koi_slogg_err2  koi_srad  koi_srad_err1  koi_srad_err2         ra  \\\n",
       "0             -0.096     0.927          0.105         -0.061  291.93423   \n",
       "1             -0.176     0.868          0.233         -0.078  297.00482   \n",
       "2             -0.168     0.791          0.201         -0.067  285.53461   \n",
       "3             -0.210     1.046          0.334         -0.133  288.75488   \n",
       "4             -0.229     0.972          0.315         -0.105  296.28613   \n",
       "...              ...       ...            ...            ...        ...   \n",
       "6983          -0.153     3.318          0.665         -0.813  287.46786   \n",
       "6986          -0.189     1.088          0.313         -0.228  298.74921   \n",
       "6987          -0.196     0.903          0.237         -0.079  297.18875   \n",
       "6989          -0.224     1.041          0.341         -0.114  294.16489   \n",
       "6990          -0.216     1.193          0.410         -0.137  297.00977   \n",
       "\n",
       "            dec  koi_kepmag  \n",
       "0     48.141651      15.347  \n",
       "1     48.134129      15.436  \n",
       "2     48.285210      15.597  \n",
       "3     48.226200      15.509  \n",
       "4     48.224670      15.714  \n",
       "...         ...         ...  \n",
       "6983  37.966640      10.630  \n",
       "6986  46.973351      14.478  \n",
       "6987  47.093819      14.082  \n",
       "6989  47.176281      15.385  \n",
       "6990  47.121021      14.826  \n",
       "\n",
       "[5304 rows x 40 columns]"
      ],
      "text/html": "<div>\n<style scoped>\n    .dataframe tbody tr th:only-of-type {\n        vertical-align: middle;\n    }\n\n    .dataframe tbody tr th {\n        vertical-align: top;\n    }\n\n    .dataframe thead th {\n        text-align: right;\n    }\n</style>\n<table border=\"1\" class=\"dataframe\">\n  <thead>\n    <tr style=\"text-align: right;\">\n      <th></th>\n      <th>koi_fpflag_nt</th>\n      <th>koi_fpflag_ss</th>\n      <th>koi_fpflag_co</th>\n      <th>koi_fpflag_ec</th>\n      <th>koi_period</th>\n      <th>koi_period_err1</th>\n      <th>koi_period_err2</th>\n      <th>koi_time0bk</th>\n      <th>koi_time0bk_err1</th>\n      <th>koi_time0bk_err2</th>\n      <th>...</th>\n      <th>koi_steff_err2</th>\n      <th>koi_slogg</th>\n      <th>koi_slogg_err1</th>\n      <th>koi_slogg_err2</th>\n      <th>koi_srad</th>\n      <th>koi_srad_err1</th>\n      <th>koi_srad_err2</th>\n      <th>ra</th>\n      <th>dec</th>\n      <th>koi_kepmag</th>\n    </tr>\n  </thead>\n  <tbody>\n    <tr>\n      <th>0</th>\n      <td>0</td>\n      <td>0</td>\n      <td>0</td>\n      <td>0</td>\n      <td>54.418383</td>\n      <td>2.479000e-04</td>\n      <td>-2.479000e-04</td>\n      <td>162.513840</td>\n      <td>0.003520</td>\n      <td>-0.003520</td>\n      <td>...</td>\n      <td>-81</td>\n      <td>4.467</td>\n      <td>0.064</td>\n      <td>-0.096</td>\n      <td>0.927</td>\n      <td>0.105</td>\n      <td>-0.061</td>\n      <td>291.93423</td>\n      <td>48.141651</td>\n      <td>15.347</td>\n    </tr>\n    <tr>\n      <th>1</th>\n      <td>0</td>\n      <td>1</td>\n      <td>0</td>\n      <td>0</td>\n      <td>19.899140</td>\n      <td>1.490000e-05</td>\n      <td>-1.490000e-05</td>\n      <td>175.850252</td>\n      <td>0.000581</td>\n      <td>-0.000581</td>\n      <td>...</td>\n      <td>-176</td>\n      <td>4.544</td>\n      <td>0.044</td>\n      <td>-0.176</td>\n      <td>0.868</td>\n      <td>0.233</td>\n      <td>-0.078</td>\n      <td>297.00482</td>\n      <td>48.134129</td>\n      <td>15.436</td>\n    </tr>\n    <tr>\n      <th>2</th>\n      <td>0</td>\n      <td>1</td>\n      <td>0</td>\n      <td>0</td>\n      <td>1.736952</td>\n      <td>2.630000e-07</td>\n      <td>-2.630000e-07</td>\n      <td>170.307565</td>\n      <td>0.000115</td>\n      <td>-0.000115</td>\n      <td>...</td>\n      <td>-174</td>\n      <td>4.564</td>\n      <td>0.053</td>\n      <td>-0.168</td>\n      <td>0.791</td>\n      <td>0.201</td>\n      <td>-0.067</td>\n      <td>285.53461</td>\n      <td>48.285210</td>\n      <td>15.597</td>\n    </tr>\n    <tr>\n      <th>3</th>\n      <td>0</td>\n      <td>0</td>\n      <td>0</td>\n      <td>0</td>\n      <td>2.525592</td>\n      <td>3.760000e-06</td>\n      <td>-3.760000e-06</td>\n      <td>171.595550</td>\n      <td>0.001130</td>\n      <td>-0.001130</td>\n      <td>...</td>\n      <td>-211</td>\n      <td>4.438</td>\n      <td>0.070</td>\n      <td>-0.210</td>\n      <td>1.046</td>\n      <td>0.334</td>\n      <td>-0.133</td>\n      <td>288.75488</td>\n      <td>48.226200</td>\n      <td>15.509</td>\n    </tr>\n    <tr>\n      <th>4</th>\n      <td>0</td>\n      <td>0</td>\n      <td>0</td>\n      <td>0</td>\n      <td>4.134435</td>\n      <td>1.050000e-05</td>\n      <td>-1.050000e-05</td>\n      <td>172.979370</td>\n      <td>0.001900</td>\n      <td>-0.001900</td>\n      <td>...</td>\n      <td>-232</td>\n      <td>4.486</td>\n      <td>0.054</td>\n      <td>-0.229</td>\n      <td>0.972</td>\n      <td>0.315</td>\n      <td>-0.105</td>\n      <td>296.28613</td>\n      <td>48.224670</td>\n      <td>15.714</td>\n    </tr>\n    <tr>\n      <th>...</th>\n      <td>...</td>\n      <td>...</td>\n      <td>...</td>\n      <td>...</td>\n      <td>...</td>\n      <td>...</td>\n      <td>...</td>\n      <td>...</td>\n      <td>...</td>\n      <td>...</td>\n      <td>...</td>\n      <td>...</td>\n      <td>...</td>\n      <td>...</td>\n      <td>...</td>\n      <td>...</td>\n      <td>...</td>\n      <td>...</td>\n      <td>...</td>\n      <td>...</td>\n      <td>...</td>\n    </tr>\n    <tr>\n      <th>6983</th>\n      <td>0</td>\n      <td>1</td>\n      <td>0</td>\n      <td>0</td>\n      <td>21.513523</td>\n      <td>2.714000e-04</td>\n      <td>-2.714000e-04</td>\n      <td>132.335600</td>\n      <td>0.012200</td>\n      <td>-0.012200</td>\n      <td>...</td>\n      <td>-141</td>\n      <td>3.508</td>\n      <td>0.187</td>\n      <td>-0.153</td>\n      <td>3.318</td>\n      <td>0.665</td>\n      <td>-0.813</td>\n      <td>287.46786</td>\n      <td>37.966640</td>\n      <td>10.630</td>\n    </tr>\n    <tr>\n      <th>6986</th>\n      <td>0</td>\n      <td>0</td>\n      <td>0</td>\n      <td>1</td>\n      <td>8.589871</td>\n      <td>1.846000e-04</td>\n      <td>-1.846000e-04</td>\n      <td>132.016100</td>\n      <td>0.015700</td>\n      <td>-0.015700</td>\n      <td>...</td>\n      <td>-152</td>\n      <td>4.296</td>\n      <td>0.231</td>\n      <td>-0.189</td>\n      <td>1.088</td>\n      <td>0.313</td>\n      <td>-0.228</td>\n      <td>298.74921</td>\n      <td>46.973351</td>\n      <td>14.478</td>\n    </tr>\n    <tr>\n      <th>6987</th>\n      <td>0</td>\n      <td>1</td>\n      <td>1</td>\n      <td>0</td>\n      <td>0.527699</td>\n      <td>1.160000e-07</td>\n      <td>-1.160000e-07</td>\n      <td>131.705093</td>\n      <td>0.000170</td>\n      <td>-0.000170</td>\n      <td>...</td>\n      <td>-166</td>\n      <td>4.529</td>\n      <td>0.035</td>\n      <td>-0.196</td>\n      <td>0.903</td>\n      <td>0.237</td>\n      <td>-0.079</td>\n      <td>297.18875</td>\n      <td>47.093819</td>\n      <td>14.082</td>\n    </tr>\n    <tr>\n      <th>6989</th>\n      <td>0</td>\n      <td>0</td>\n      <td>1</td>\n      <td>0</td>\n      <td>0.681402</td>\n      <td>2.430000e-06</td>\n      <td>-2.430000e-06</td>\n      <td>132.181750</td>\n      <td>0.002850</td>\n      <td>-0.002850</td>\n      <td>...</td>\n      <td>-236</td>\n      <td>4.447</td>\n      <td>0.056</td>\n      <td>-0.224</td>\n      <td>1.041</td>\n      <td>0.341</td>\n      <td>-0.114</td>\n      <td>294.16489</td>\n      <td>47.176281</td>\n      <td>15.385</td>\n    </tr>\n    <tr>\n      <th>6990</th>\n      <td>0</td>\n      <td>0</td>\n      <td>1</td>\n      <td>1</td>\n      <td>4.856035</td>\n      <td>6.360000e-05</td>\n      <td>-6.360000e-05</td>\n      <td>135.993300</td>\n      <td>0.010800</td>\n      <td>-0.010800</td>\n      <td>...</td>\n      <td>-225</td>\n      <td>4.385</td>\n      <td>0.054</td>\n      <td>-0.216</td>\n      <td>1.193</td>\n      <td>0.410</td>\n      <td>-0.137</td>\n      <td>297.00977</td>\n      <td>47.121021</td>\n      <td>14.826</td>\n    </tr>\n  </tbody>\n</table>\n<p>5304 rows × 40 columns</p>\n</div>"
     },
     "metadata": {},
     "execution_count": 7
    }
   ],
   "source": [
    "# Set features. This will also be used as your x values.\n",
    "X = df.drop(\"koi_disposition\", axis = 1)\n",
    "X"
   ]
  },
  {
   "cell_type": "code",
   "execution_count": 8,
   "metadata": {},
   "outputs": [
    {
     "output_type": "execute_result",
     "data": {
      "text/plain": [
       "      CONFIRMED  FALSE POSITIVE\n",
       "0             1               0\n",
       "1             0               1\n",
       "2             0               1\n",
       "3             1               0\n",
       "4             1               0\n",
       "...         ...             ...\n",
       "6983          0               1\n",
       "6986          0               1\n",
       "6987          0               1\n",
       "6989          0               1\n",
       "6990          0               1\n",
       "\n",
       "[5304 rows x 2 columns]"
      ],
      "text/html": "<div>\n<style scoped>\n    .dataframe tbody tr th:only-of-type {\n        vertical-align: middle;\n    }\n\n    .dataframe tbody tr th {\n        vertical-align: top;\n    }\n\n    .dataframe thead th {\n        text-align: right;\n    }\n</style>\n<table border=\"1\" class=\"dataframe\">\n  <thead>\n    <tr style=\"text-align: right;\">\n      <th></th>\n      <th>CONFIRMED</th>\n      <th>FALSE POSITIVE</th>\n    </tr>\n  </thead>\n  <tbody>\n    <tr>\n      <th>0</th>\n      <td>1</td>\n      <td>0</td>\n    </tr>\n    <tr>\n      <th>1</th>\n      <td>0</td>\n      <td>1</td>\n    </tr>\n    <tr>\n      <th>2</th>\n      <td>0</td>\n      <td>1</td>\n    </tr>\n    <tr>\n      <th>3</th>\n      <td>1</td>\n      <td>0</td>\n    </tr>\n    <tr>\n      <th>4</th>\n      <td>1</td>\n      <td>0</td>\n    </tr>\n    <tr>\n      <th>...</th>\n      <td>...</td>\n      <td>...</td>\n    </tr>\n    <tr>\n      <th>6983</th>\n      <td>0</td>\n      <td>1</td>\n    </tr>\n    <tr>\n      <th>6986</th>\n      <td>0</td>\n      <td>1</td>\n    </tr>\n    <tr>\n      <th>6987</th>\n      <td>0</td>\n      <td>1</td>\n    </tr>\n    <tr>\n      <th>6989</th>\n      <td>0</td>\n      <td>1</td>\n    </tr>\n    <tr>\n      <th>6990</th>\n      <td>0</td>\n      <td>1</td>\n    </tr>\n  </tbody>\n</table>\n<p>5304 rows × 2 columns</p>\n</div>"
     },
     "metadata": {},
     "execution_count": 8
    }
   ],
   "source": [
    "y = pd.get_dummies(df.koi_disposition)\n",
    "y"
   ]
  },
  {
   "cell_type": "code",
   "execution_count": 9,
   "metadata": {},
   "outputs": [
    {
     "output_type": "stream",
     "name": "stdout",
     "text": [
      "(5304, 40) (5304, 2)\n"
     ]
    }
   ],
   "source": [
    "print(X.shape, y.shape)"
   ]
  },
  {
   "source": [
    "# Create a Train Test Split\n",
    "\n",
    "# Use `koi_disposition` for the y values\n",
    "\n",
    "from sklearn.model_selection import train_test_split\n",
    "X_train, X_test, y_train, y_test = train_test_split(X, y.CONFIRMED)"
   ],
   "cell_type": "code",
   "metadata": {},
   "execution_count": 10,
   "outputs": []
  },
  {
   "cell_type": "code",
   "execution_count": 23,
   "metadata": {},
   "outputs": [],
   "source": []
  },
  {
   "cell_type": "code",
   "execution_count": 11,
   "metadata": {},
   "outputs": [
    {
     "output_type": "execute_result",
     "data": {
      "text/plain": [
       "      koi_fpflag_nt  koi_fpflag_ss  koi_fpflag_co  koi_fpflag_ec  koi_period  \\\n",
       "1738              0              1              0              1    1.480324   \n",
       "6063              0              1              0              0    0.896271   \n",
       "2383              0              0              1              1    3.723561   \n",
       "2674              0              0              0              0   16.338881   \n",
       "5811              0              0              1              0    4.247489   \n",
       "\n",
       "      koi_period_err1  koi_period_err2  koi_time0bk  koi_time0bk_err1  \\\n",
       "1738     3.370000e-06    -3.370000e-06   131.755300          0.002450   \n",
       "6063     3.710000e-07    -3.710000e-07   131.668052          0.000352   \n",
       "2383     6.500000e-06    -6.500000e-06   172.179770          0.001430   \n",
       "2674     1.880000e-05    -1.880000e-05   177.917586          0.000902   \n",
       "5811     5.960000e-05    -5.960000e-05   132.056200          0.012600   \n",
       "\n",
       "      koi_time0bk_err2  ...  koi_steff_err2  koi_slogg  koi_slogg_err1  \\\n",
       "1738         -0.002450  ...            -180      4.342           0.153   \n",
       "6063         -0.000352  ...            -166      4.493           0.081   \n",
       "2383         -0.001430  ...            -212      4.373           0.062   \n",
       "2674         -0.000902  ...             -53      3.645           0.060   \n",
       "5811         -0.012600  ...            -192      4.524           0.042   \n",
       "\n",
       "      koi_slogg_err2  koi_srad  koi_srad_err1  koi_srad_err2         ra  \\\n",
       "1738          -0.187     1.081          0.311         -0.207  282.01251   \n",
       "6063          -0.150     0.861          0.196         -0.105  295.00464   \n",
       "2383          -0.175     1.181          0.339         -0.145  290.41916   \n",
       "2674          -0.066     2.595          0.273         -0.198  290.32733   \n",
       "5811          -0.179     0.922          0.231         -0.093  298.38226   \n",
       "\n",
       "            dec  koi_kepmag  \n",
       "1738  46.428200      13.660  \n",
       "6063  38.775478      15.261  \n",
       "2383  41.525372      14.930  \n",
       "2674  42.898281      13.781  \n",
       "5811  39.913521      15.146  \n",
       "\n",
       "[5 rows x 40 columns]"
      ],
      "text/html": "<div>\n<style scoped>\n    .dataframe tbody tr th:only-of-type {\n        vertical-align: middle;\n    }\n\n    .dataframe tbody tr th {\n        vertical-align: top;\n    }\n\n    .dataframe thead th {\n        text-align: right;\n    }\n</style>\n<table border=\"1\" class=\"dataframe\">\n  <thead>\n    <tr style=\"text-align: right;\">\n      <th></th>\n      <th>koi_fpflag_nt</th>\n      <th>koi_fpflag_ss</th>\n      <th>koi_fpflag_co</th>\n      <th>koi_fpflag_ec</th>\n      <th>koi_period</th>\n      <th>koi_period_err1</th>\n      <th>koi_period_err2</th>\n      <th>koi_time0bk</th>\n      <th>koi_time0bk_err1</th>\n      <th>koi_time0bk_err2</th>\n      <th>...</th>\n      <th>koi_steff_err2</th>\n      <th>koi_slogg</th>\n      <th>koi_slogg_err1</th>\n      <th>koi_slogg_err2</th>\n      <th>koi_srad</th>\n      <th>koi_srad_err1</th>\n      <th>koi_srad_err2</th>\n      <th>ra</th>\n      <th>dec</th>\n      <th>koi_kepmag</th>\n    </tr>\n  </thead>\n  <tbody>\n    <tr>\n      <th>1738</th>\n      <td>0</td>\n      <td>1</td>\n      <td>0</td>\n      <td>1</td>\n      <td>1.480324</td>\n      <td>3.370000e-06</td>\n      <td>-3.370000e-06</td>\n      <td>131.755300</td>\n      <td>0.002450</td>\n      <td>-0.002450</td>\n      <td>...</td>\n      <td>-180</td>\n      <td>4.342</td>\n      <td>0.153</td>\n      <td>-0.187</td>\n      <td>1.081</td>\n      <td>0.311</td>\n      <td>-0.207</td>\n      <td>282.01251</td>\n      <td>46.428200</td>\n      <td>13.660</td>\n    </tr>\n    <tr>\n      <th>6063</th>\n      <td>0</td>\n      <td>1</td>\n      <td>0</td>\n      <td>0</td>\n      <td>0.896271</td>\n      <td>3.710000e-07</td>\n      <td>-3.710000e-07</td>\n      <td>131.668052</td>\n      <td>0.000352</td>\n      <td>-0.000352</td>\n      <td>...</td>\n      <td>-166</td>\n      <td>4.493</td>\n      <td>0.081</td>\n      <td>-0.150</td>\n      <td>0.861</td>\n      <td>0.196</td>\n      <td>-0.105</td>\n      <td>295.00464</td>\n      <td>38.775478</td>\n      <td>15.261</td>\n    </tr>\n    <tr>\n      <th>2383</th>\n      <td>0</td>\n      <td>0</td>\n      <td>1</td>\n      <td>1</td>\n      <td>3.723561</td>\n      <td>6.500000e-06</td>\n      <td>-6.500000e-06</td>\n      <td>172.179770</td>\n      <td>0.001430</td>\n      <td>-0.001430</td>\n      <td>...</td>\n      <td>-212</td>\n      <td>4.373</td>\n      <td>0.062</td>\n      <td>-0.175</td>\n      <td>1.181</td>\n      <td>0.339</td>\n      <td>-0.145</td>\n      <td>290.41916</td>\n      <td>41.525372</td>\n      <td>14.930</td>\n    </tr>\n    <tr>\n      <th>2674</th>\n      <td>0</td>\n      <td>0</td>\n      <td>0</td>\n      <td>0</td>\n      <td>16.338881</td>\n      <td>1.880000e-05</td>\n      <td>-1.880000e-05</td>\n      <td>177.917586</td>\n      <td>0.000902</td>\n      <td>-0.000902</td>\n      <td>...</td>\n      <td>-53</td>\n      <td>3.645</td>\n      <td>0.060</td>\n      <td>-0.066</td>\n      <td>2.595</td>\n      <td>0.273</td>\n      <td>-0.198</td>\n      <td>290.32733</td>\n      <td>42.898281</td>\n      <td>13.781</td>\n    </tr>\n    <tr>\n      <th>5811</th>\n      <td>0</td>\n      <td>0</td>\n      <td>1</td>\n      <td>0</td>\n      <td>4.247489</td>\n      <td>5.960000e-05</td>\n      <td>-5.960000e-05</td>\n      <td>132.056200</td>\n      <td>0.012600</td>\n      <td>-0.012600</td>\n      <td>...</td>\n      <td>-192</td>\n      <td>4.524</td>\n      <td>0.042</td>\n      <td>-0.179</td>\n      <td>0.922</td>\n      <td>0.231</td>\n      <td>-0.093</td>\n      <td>298.38226</td>\n      <td>39.913521</td>\n      <td>15.146</td>\n    </tr>\n  </tbody>\n</table>\n<p>5 rows × 40 columns</p>\n</div>"
     },
     "metadata": {},
     "execution_count": 11
    }
   ],
   "source": [
    "X_train.head()"
   ]
  },
  {
   "cell_type": "markdown",
   "metadata": {},
   "source": [
    "# Pre-processing\n",
    "\n",
    "Scale the data using the MinMaxScaler and perform some feature selection"
   ]
  },
  {
   "cell_type": "code",
   "execution_count": 12,
   "metadata": {},
   "outputs": [],
   "source": [
    "# Scale your data\n",
    "from numpy import asarray\n",
    "from sklearn.preprocessing import MinMaxScaler"
   ]
  },
  {
   "cell_type": "code",
   "execution_count": 13,
   "metadata": {},
   "outputs": [],
   "source": [
    "X_scaler = MinMaxScaler().fit(X_train)\n",
    "X_train_scaled = X_scaler.transform(X_train)\n",
    "X_test_scaled = X_scaler.transform(X_test)"
   ]
  },
  {
   "cell_type": "markdown",
   "metadata": {},
   "source": [
    "# Train the Model\n",
    "\n"
   ]
  },
  {
   "cell_type": "code",
   "execution_count": 15,
   "metadata": {},
   "outputs": [
    {
     "output_type": "execute_result",
     "data": {
      "text/plain": [
       "0.9864253393665159"
      ]
     },
     "metadata": {},
     "execution_count": 15
    }
   ],
   "source": [
    "rf = RandomForestClassifier(n_estimators=200)\n",
    "rf = rf.fit(X_train_scaled, y_train)\n",
    "rf.score(X_test_scaled, y_test)"
   ]
  },
  {
   "cell_type": "code",
   "execution_count": 23,
   "metadata": {},
   "outputs": [
    {
     "output_type": "stream",
     "name": "stdout",
     "text": [
      "{'bootstrap': True, 'ccp_alpha': 0.0, 'class_weight': None, 'criterion': 'gini', 'max_depth': None, 'max_features': 'auto', 'max_leaf_nodes': None, 'max_samples': None, 'min_impurity_decrease': 0.0, 'min_impurity_split': None, 'min_samples_leaf': 1, 'min_samples_split': 2, 'min_weight_fraction_leaf': 0.0, 'n_estimators': 200, 'n_jobs': None, 'oob_score': False, 'random_state': None, 'verbose': 0, 'warm_start': False}\n"
     ]
    }
   ],
   "source": [
    "print(rf.get_params())"
   ]
  },
  {
   "cell_type": "code",
   "execution_count": 27,
   "metadata": {},
   "outputs": [
    {
     "output_type": "execute_result",
     "data": {
      "text/plain": [
       "dict_keys(['bootstrap', 'ccp_alpha', 'class_weight', 'criterion', 'max_depth', 'max_features', 'max_leaf_nodes', 'max_samples', 'min_impurity_decrease', 'min_impurity_split', 'min_samples_leaf', 'min_samples_split', 'min_weight_fraction_leaf', 'n_estimators', 'n_jobs', 'oob_score', 'random_state', 'verbose', 'warm_start'])"
      ]
     },
     "metadata": {},
     "execution_count": 27
    }
   ],
   "source": [
    "rf.get_params().keys()"
   ]
  },
  {
   "cell_type": "markdown",
   "metadata": {},
   "source": [
    "# Hyperparameter Tuning\n",
    "\n",
    "Use `GridSearchCV` to tune the model's parameters"
   ]
  },
  {
   "cell_type": "code",
   "execution_count": 40,
   "metadata": {},
   "outputs": [],
   "source": [
    "# Create the GridSearchCV model\n",
    "from sklearn.model_selection import GridSearchCV\n",
    "model = rf\n",
    "param_grid = [\n",
    "  {'n_estimators': [200, 100],\n",
    "    'max_depth': [1, 5, 10],\n",
    "  'criterion': ['gini', 'entropy']\n",
    "  }]\n",
    "grid = GridSearchCV(model, param_grid, verbose=3)"
   ]
  },
  {
   "cell_type": "code",
   "execution_count": 42,
   "metadata": {},
   "outputs": [
    {
     "output_type": "stream",
     "name": "stdout",
     "text": [
      "Fitting 5 folds for each of 12 candidates, totalling 60 fits\n",
      "[CV] criterion=gini, max_depth=1, n_estimators=200 ...................\n",
      "[Parallel(n_jobs=1)]: Using backend SequentialBackend with 1 concurrent workers.\n",
      "[CV]  criterion=gini, max_depth=1, n_estimators=200, score=0.839, total=   0.5s\n",
      "[CV] criterion=gini, max_depth=1, n_estimators=200 ...................\n",
      "[Parallel(n_jobs=1)]: Done   1 out of   1 | elapsed:    0.4s remaining:    0.0s\n",
      "[CV]  criterion=gini, max_depth=1, n_estimators=200, score=0.858, total=   0.4s\n",
      "[CV] criterion=gini, max_depth=1, n_estimators=200 ...................\n",
      "[Parallel(n_jobs=1)]: Done   2 out of   2 | elapsed:    0.8s remaining:    0.0s\n",
      "[CV]  criterion=gini, max_depth=1, n_estimators=200, score=0.845, total=   0.4s\n",
      "[CV] criterion=gini, max_depth=1, n_estimators=200 ...................\n",
      "[CV]  criterion=gini, max_depth=1, n_estimators=200, score=0.844, total=   0.4s\n",
      "[CV] criterion=gini, max_depth=1, n_estimators=200 ...................\n",
      "[CV]  criterion=gini, max_depth=1, n_estimators=200, score=0.859, total=   0.4s\n",
      "[CV] criterion=gini, max_depth=1, n_estimators=100 ...................\n",
      "[CV]  criterion=gini, max_depth=1, n_estimators=100, score=0.847, total=   0.2s\n",
      "[CV] criterion=gini, max_depth=1, n_estimators=100 ...................\n",
      "[CV]  criterion=gini, max_depth=1, n_estimators=100, score=0.863, total=   0.2s\n",
      "[CV] criterion=gini, max_depth=1, n_estimators=100 ...................\n",
      "[CV]  criterion=gini, max_depth=1, n_estimators=100, score=0.845, total=   0.2s\n",
      "[CV] criterion=gini, max_depth=1, n_estimators=100 ...................\n",
      "[CV]  criterion=gini, max_depth=1, n_estimators=100, score=0.834, total=   0.2s\n",
      "[CV] criterion=gini, max_depth=1, n_estimators=100 ...................\n",
      "[CV]  criterion=gini, max_depth=1, n_estimators=100, score=0.853, total=   0.2s\n",
      "[CV] criterion=gini, max_depth=5, n_estimators=200 ...................\n",
      "[CV]  criterion=gini, max_depth=5, n_estimators=200, score=0.967, total=   1.0s\n",
      "[CV] criterion=gini, max_depth=5, n_estimators=200 ...................\n",
      "[CV]  criterion=gini, max_depth=5, n_estimators=200, score=0.969, total=   1.0s\n",
      "[CV] criterion=gini, max_depth=5, n_estimators=200 ...................\n",
      "[CV]  criterion=gini, max_depth=5, n_estimators=200, score=0.965, total=   0.9s\n",
      "[CV] criterion=gini, max_depth=5, n_estimators=200 ...................\n",
      "[CV]  criterion=gini, max_depth=5, n_estimators=200, score=0.971, total=   0.9s\n",
      "[CV] criterion=gini, max_depth=5, n_estimators=200 ...................\n",
      "[CV]  criterion=gini, max_depth=5, n_estimators=200, score=0.969, total=   0.9s\n",
      "[CV] criterion=gini, max_depth=5, n_estimators=100 ...................\n",
      "[CV]  criterion=gini, max_depth=5, n_estimators=100, score=0.964, total=   0.5s\n",
      "[CV] criterion=gini, max_depth=5, n_estimators=100 ...................\n",
      "[CV]  criterion=gini, max_depth=5, n_estimators=100, score=0.974, total=   0.5s\n",
      "[CV] criterion=gini, max_depth=5, n_estimators=100 ...................\n",
      "[CV]  criterion=gini, max_depth=5, n_estimators=100, score=0.967, total=   0.5s\n",
      "[CV] criterion=gini, max_depth=5, n_estimators=100 ...................\n",
      "[CV]  criterion=gini, max_depth=5, n_estimators=100, score=0.975, total=   0.5s\n",
      "[CV] criterion=gini, max_depth=5, n_estimators=100 ...................\n",
      "[CV]  criterion=gini, max_depth=5, n_estimators=100, score=0.972, total=   0.5s\n",
      "[CV] criterion=gini, max_depth=10, n_estimators=200 ..................\n",
      "[CV]  criterion=gini, max_depth=10, n_estimators=200, score=0.977, total=   1.3s\n",
      "[CV] criterion=gini, max_depth=10, n_estimators=200 ..................\n",
      "[CV]  criterion=gini, max_depth=10, n_estimators=200, score=0.990, total=   1.3s\n",
      "[CV] criterion=gini, max_depth=10, n_estimators=200 ..................\n",
      "[CV]  criterion=gini, max_depth=10, n_estimators=200, score=0.986, total=   1.4s\n",
      "[CV] criterion=gini, max_depth=10, n_estimators=200 ..................\n",
      "[CV]  criterion=gini, max_depth=10, n_estimators=200, score=0.989, total=   1.3s\n",
      "[CV] criterion=gini, max_depth=10, n_estimators=200 ..................\n",
      "[CV]  criterion=gini, max_depth=10, n_estimators=200, score=0.981, total=   1.3s\n",
      "[CV] criterion=gini, max_depth=10, n_estimators=100 ..................\n",
      "[CV]  criterion=gini, max_depth=10, n_estimators=100, score=0.977, total=   0.8s\n",
      "[CV] criterion=gini, max_depth=10, n_estimators=100 ..................\n",
      "[CV]  criterion=gini, max_depth=10, n_estimators=100, score=0.989, total=   0.8s\n",
      "[CV] criterion=gini, max_depth=10, n_estimators=100 ..................\n",
      "[CV]  criterion=gini, max_depth=10, n_estimators=100, score=0.984, total=   0.8s\n",
      "[CV] criterion=gini, max_depth=10, n_estimators=100 ..................\n",
      "[CV]  criterion=gini, max_depth=10, n_estimators=100, score=0.986, total=   0.8s\n",
      "[CV] criterion=gini, max_depth=10, n_estimators=100 ..................\n",
      "[CV]  criterion=gini, max_depth=10, n_estimators=100, score=0.981, total=   0.8s\n",
      "[CV] criterion=entropy, max_depth=1, n_estimators=200 ................\n",
      "[CV]  criterion=entropy, max_depth=1, n_estimators=200, score=0.825, total=   0.6s\n",
      "[CV] criterion=entropy, max_depth=1, n_estimators=200 ................\n",
      "[CV]  criterion=entropy, max_depth=1, n_estimators=200, score=0.665, total=   0.6s\n",
      "[CV] criterion=entropy, max_depth=1, n_estimators=200 ................\n",
      "[CV]  criterion=entropy, max_depth=1, n_estimators=200, score=0.840, total=   0.6s\n",
      "[CV] criterion=entropy, max_depth=1, n_estimators=200 ................\n",
      "[CV]  criterion=entropy, max_depth=1, n_estimators=200, score=0.843, total=   0.6s\n",
      "[CV] criterion=entropy, max_depth=1, n_estimators=200 ................\n",
      "[CV]  criterion=entropy, max_depth=1, n_estimators=200, score=0.821, total=   0.6s\n",
      "[CV] criterion=entropy, max_depth=1, n_estimators=100 ................\n",
      "[CV]  criterion=entropy, max_depth=1, n_estimators=100, score=0.862, total=   0.3s\n",
      "[CV] criterion=entropy, max_depth=1, n_estimators=100 ................\n",
      "[CV]  criterion=entropy, max_depth=1, n_estimators=100, score=0.665, total=   0.3s\n",
      "[CV] criterion=entropy, max_depth=1, n_estimators=100 ................\n",
      "[CV]  criterion=entropy, max_depth=1, n_estimators=100, score=0.845, total=   0.3s\n",
      "[CV] criterion=entropy, max_depth=1, n_estimators=100 ................\n",
      "[CV]  criterion=entropy, max_depth=1, n_estimators=100, score=0.849, total=   0.3s\n",
      "[CV] criterion=entropy, max_depth=1, n_estimators=100 ................\n",
      "[CV]  criterion=entropy, max_depth=1, n_estimators=100, score=0.852, total=   0.3s\n",
      "[CV] criterion=entropy, max_depth=5, n_estimators=200 ................\n",
      "[CV]  criterion=entropy, max_depth=5, n_estimators=200, score=0.974, total=   1.4s\n",
      "[CV] criterion=entropy, max_depth=5, n_estimators=200 ................\n",
      "[CV]  criterion=entropy, max_depth=5, n_estimators=200, score=0.976, total=   1.4s\n",
      "[CV] criterion=entropy, max_depth=5, n_estimators=200 ................\n",
      "[CV]  criterion=entropy, max_depth=5, n_estimators=200, score=0.975, total=   1.6s\n",
      "[CV] criterion=entropy, max_depth=5, n_estimators=200 ................\n",
      "[CV]  criterion=entropy, max_depth=5, n_estimators=200, score=0.976, total=   1.8s\n",
      "[CV] criterion=entropy, max_depth=5, n_estimators=200 ................\n",
      "[CV]  criterion=entropy, max_depth=5, n_estimators=200, score=0.976, total=   1.6s\n",
      "[CV] criterion=entropy, max_depth=5, n_estimators=100 ................\n",
      "[CV]  criterion=entropy, max_depth=5, n_estimators=100, score=0.967, total=   0.8s\n",
      "[CV] criterion=entropy, max_depth=5, n_estimators=100 ................\n",
      "[CV]  criterion=entropy, max_depth=5, n_estimators=100, score=0.979, total=   1.0s\n",
      "[CV] criterion=entropy, max_depth=5, n_estimators=100 ................\n",
      "[CV]  criterion=entropy, max_depth=5, n_estimators=100, score=0.981, total=   0.8s\n",
      "[CV] criterion=entropy, max_depth=5, n_estimators=100 ................\n",
      "[CV]  criterion=entropy, max_depth=5, n_estimators=100, score=0.974, total=   0.8s\n",
      "[CV] criterion=entropy, max_depth=5, n_estimators=100 ................\n",
      "[CV]  criterion=entropy, max_depth=5, n_estimators=100, score=0.977, total=   0.7s\n",
      "[CV] criterion=entropy, max_depth=10, n_estimators=200 ...............\n",
      "[CV]  criterion=entropy, max_depth=10, n_estimators=200, score=0.981, total=   1.9s\n",
      "[CV] criterion=entropy, max_depth=10, n_estimators=200 ...............\n",
      "[CV]  criterion=entropy, max_depth=10, n_estimators=200, score=0.991, total=   2.0s\n",
      "[CV] criterion=entropy, max_depth=10, n_estimators=200 ...............\n",
      "[CV]  criterion=entropy, max_depth=10, n_estimators=200, score=0.987, total=   1.9s\n",
      "[CV] criterion=entropy, max_depth=10, n_estimators=200 ...............\n",
      "[CV]  criterion=entropy, max_depth=10, n_estimators=200, score=0.987, total=   2.0s\n",
      "[CV] criterion=entropy, max_depth=10, n_estimators=200 ...............\n",
      "[CV]  criterion=entropy, max_depth=10, n_estimators=200, score=0.981, total=   1.8s\n",
      "[CV] criterion=entropy, max_depth=10, n_estimators=100 ...............\n",
      "[CV]  criterion=entropy, max_depth=10, n_estimators=100, score=0.980, total=   0.9s\n",
      "[CV] criterion=entropy, max_depth=10, n_estimators=100 ...............\n",
      "[CV]  criterion=entropy, max_depth=10, n_estimators=100, score=0.991, total=   1.0s\n",
      "[CV] criterion=entropy, max_depth=10, n_estimators=100 ...............\n",
      "[CV]  criterion=entropy, max_depth=10, n_estimators=100, score=0.986, total=   1.0s\n",
      "[CV] criterion=entropy, max_depth=10, n_estimators=100 ...............\n",
      "[CV]  criterion=entropy, max_depth=10, n_estimators=100, score=0.989, total=   1.0s\n",
      "[CV] criterion=entropy, max_depth=10, n_estimators=100 ...............\n",
      "[CV]  criterion=entropy, max_depth=10, n_estimators=100, score=0.981, total=   1.1s\n",
      "[Parallel(n_jobs=1)]: Done  60 out of  60 | elapsed:   52.0s finished\n"
     ]
    },
    {
     "output_type": "execute_result",
     "data": {
      "text/plain": [
       "GridSearchCV(estimator=RandomForestClassifier(n_estimators=200),\n",
       "             param_grid=[{'criterion': ['gini', 'entropy'],\n",
       "                          'max_depth': [1, 5, 10],\n",
       "                          'n_estimators': [200, 100]}],\n",
       "             verbose=3)"
      ]
     },
     "metadata": {},
     "execution_count": 42
    }
   ],
   "source": [
    "grid.fit(X_train_scaled, y_train)"
   ]
  },
  {
   "cell_type": "code",
   "execution_count": 43,
   "metadata": {},
   "outputs": [
    {
     "output_type": "stream",
     "name": "stdout",
     "text": [
      "{'criterion': 'entropy', 'max_depth': 10, 'n_estimators': 200}\n0.9856704908188743\n"
     ]
    }
   ],
   "source": [
    "print(grid.best_params_)\n",
    "print(grid.best_score_)"
   ]
  },
  {
   "cell_type": "markdown",
   "metadata": {},
   "source": [
    "# Save the Model"
   ]
  },
  {
   "cell_type": "code",
   "execution_count": 44,
   "metadata": {},
   "outputs": [
    {
     "output_type": "execute_result",
     "data": {
      "text/plain": [
       "['Random Forest Model.sav']"
      ]
     },
     "metadata": {},
     "execution_count": 44
    }
   ],
   "source": [
    "# save your model by updating \"your_name\" with your name\n",
    "# and \"your_model\" with your model variable\n",
    "# be sure to turn this in to BCS\n",
    "# if joblib fails to import, try running the command to install in terminal/git-bash\n",
    "import joblib\n",
    "filename = 'Random Forest Model.sav'\n",
    "joblib.dump(grid.best_score_, filename)"
   ]
  }
 ],
 "metadata": {
  "kernel_info": {
   "name": "dev"
  },
  "kernelspec": {
   "name": "python3610jvsc74a57bd0a7795a94fcb98f890ecfbefedba6c51e1f5a02e9905bd71b2049174ccd39ef45",
   "display_name": "Python 3.6.10 64-bit ('PythonData': conda)"
  },
  "language_info": {
   "codemirror_mode": {
    "name": "ipython",
    "version": 3
   },
   "file_extension": ".py",
   "mimetype": "text/x-python",
   "name": "python",
   "nbconvert_exporter": "python",
   "pygments_lexer": "ipython3",
   "version": "3.6.10"
  },
  "nteract": {
   "version": "0.12.3"
  }
 },
 "nbformat": 4,
 "nbformat_minor": 2
}